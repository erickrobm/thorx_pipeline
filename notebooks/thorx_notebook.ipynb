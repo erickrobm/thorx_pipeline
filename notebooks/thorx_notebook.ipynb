{
 "cells": [
  {
   "cell_type": "markdown",
   "metadata": {},
   "source": [
    "# <h1 style='Text-align: center;'>**Thesis Project - ThorX Neural Notebook v1.0**</h1>\n",
    "# <h1 style='Text-align: center;'>Deployment of Machine Learning Model for Web Site in Covid-19 Detection</h1>\n",
    "\n",
    "`Created by: Erick Eduardo Robledo Montes`\n",
    "\n",
    "---\n",
    "---\n",
    "<p style='Text-align: justify;'><i>Objective:</i> Predict Covid-19, Viral Pneumonia or Normal classes with features derived from chest X-Ray images. </p>\n",
    "\n",
    "## Content\n",
    "\n",
    "1. [Background](#Background)\n",
    "1. [Sources](#Sources)\n",
    "1. [Libraries](#Libraries)\n",
    "1. [Tensorflow-GPU](#Tensorflow-GPU)\n",
    "1. [Variables](#Variables)\n",
    "1. [Transformers](#Transformers)\n",
    "1. [Data](#Data)\n",
    "1. [ShuffleSplit](#ShuffleSplit)\n",
    "1. [Train](#Train)\n",
    "1. [Evaluation](#Evaluation)\n",
    "\n",
    "## Background\n",
    "\n",
    "<p style='Text-align: justify;'>This notebook uses chest X-Ray images from <i>\"COVID-19 Radiography Database\"</i>, hosted on the website <i>Kaggle</i> which includes 15,153 images splited in three folders:</p> \n",
    "\n",
    "* *COVID-19* \n",
    "* *Viral Pneumonia*\n",
    "* *Normal*\n",
    "\n",
    "<p style='Text-align: justify;'>For this illustration, we manage to use Transfer Learning and adapt our own neural network model at the <i>output</i> of the convolutional neural network <i>VGG16</i> to develop multiclass classificators with <i>Tensorflow-GPU</i>, in order to allow using the computer's GPU to accelerate the training of this models.</p>\n",
    "\n",
    "## Sources\n",
    "\n",
    "* *COVID-19 Radiography Database: [https://www.kaggle.com/datasets/tawsifurrahman/covid19-radiography-database]*\n",
    "* *Towards Data Science: [https://towardsdatascience.com/a-look-at-precision-recall-and-f1-score-36b5fd0dd3ec]*\n",
    "* *Sci-kit Learn Org: [https://scikit-learn.org/stable/modules/generated/sklearn.metrics.precision_recall_fscore_support.html]*\n",
    "* *Towards Data Science - Confusion Matrix and Class Statistics: [https://towardsdatascience.com/confusion-matrix-and-class-statistics-68b79f4f510b]*\n",
    "\n",
    "---\n"
   ]
  },
  {
   "cell_type": "markdown",
   "metadata": {},
   "source": [
    "## Libraries"
   ]
  },
  {
   "cell_type": "markdown",
   "metadata": {},
   "source": [
    "We'll import all the Python libraries."
   ]
  },
  {
   "cell_type": "code",
   "execution_count": 1,
   "metadata": {},
   "outputs": [],
   "source": [
    "import pandas as pd\n",
    "import numpy as np\n",
    "import matplotlib.pyplot as plt\n",
    "import seaborn as sns\n",
    "import tensorflow as tf\n",
    "from sklearn.preprocessing import (\n",
    "    LabelEncoder,\n",
    "    LabelBinarizer,\n",
    ")\n",
    "from tensorflow.keras.utils import to_categorical\n",
    "from sklearn.metrics import (\n",
    "    classification_report,\n",
    "    accuracy_score,\n",
    "    confusion_matrix,\n",
    "    roc_auc_score, #\n",
    "    plot_roc_curve, #\n",
    "    roc_curve,\n",
    "    auc,\n",
    ") \n",
    "from sklearn.model_selection import train_test_split\n",
    "from tensorflow.keras import layers\n",
    "from tensorflow.keras.regularizers import l2\n",
    "from tensorflow.keras.models import (\n",
    "    Model,\n",
    "    load_model,\n",
    ")\n",
    "from tensorflow.keras.applications import VGG16, VGG19\n",
    "from tensorflow.keras.applications.resnet50 import ResNet50\n",
    "from tensorflow.keras.optimizers import Adam\n",
    "from tensorflow.keras.callbacks import (\n",
    "    EarlyStopping, \n",
    "    ModelCheckpoint,\n",
    ") \n",
    "from tensorflow.keras.preprocessing.image import ImageDataGenerator\n",
    "from sklearn.base import BaseEstimator, TransformerMixin\n",
    "import glob\n",
    "import cv2\n",
    "import random"
   ]
  },
  {
   "cell_type": "markdown",
   "metadata": {},
   "source": [
    "---\n",
    "## Tensorflow-GPU\n",
    "\n",
    "Testing if there's a GPU in the computer to use on the training of the Neural Network Model to fast forward the proccess."
   ]
  },
  {
   "cell_type": "markdown",
   "metadata": {},
   "source": [
    "Using `tf.test.gpu_device_name()` in order to confirm if there´s a GPU device in the computer."
   ]
  },
  {
   "cell_type": "code",
   "execution_count": 2,
   "metadata": {},
   "outputs": [
    {
     "name": "stdout",
     "output_type": "stream",
     "text": [
      "Found GPU at: /device:GPU:0\n"
     ]
    }
   ],
   "source": [
    "device_name = tf.test.gpu_device_name()\n",
    "if \"GPU\" not in device_name: print(\"GPU device not found\")\n",
    "else: print('Found GPU at: {}'.format(device_name))\n",
    "\n",
    "plt.rcParams['figure.figsize'] = [8.0, 8.0]\n",
    "plt.rcParams['figure.dpi'] = 100"
   ]
  },
  {
   "cell_type": "markdown",
   "metadata": {},
   "source": [
    "---\n",
    "## Variables\n",
    "\n",
    "Now we will set all the constant variables in all the project."
   ]
  },
  {
   "cell_type": "code",
   "execution_count": 24,
   "metadata": {},
   "outputs": [],
   "source": [
    "# IMPLEMENTAR 1330 MUESTRAS CON 38 DE BATCH SIZE\n",
    "\n",
    "RAW_DATASET_PATH = \"../datasets/raw_dataset/\"\n",
    "RAW_DATASET_NAME = \"raw_data_4035\"\n",
    "PREDICTED_DATASET_PATH = \"../datasets/predicted_dataset/\"\n",
    "PREDICTED_DATASET_NAME = \"resnet50_predicted_data_4035_dataug_v1\"\n",
    "\n",
    "# FIRST REPOSITORY\n",
    "\n",
    "PNEUMONIA_PATH = \"../COVID-19_Radiography_Dataset/Viral Pneumonia/images/\"\n",
    "COVID_19_PATH = \"../COVID-19_Radiography_Dataset/COVID/images/\"\n",
    "#LUNG_OPACITY_PATH = \"../COVID-19_Radiography_Dataset/Lung_Opacity/images/\"\n",
    "NORMAL_PATH = \"../COVID-19_Radiography_Dataset/Normal/images/\"\n",
    "\n",
    "# SECOND REPOSITORY\n",
    "\n",
    "#PNEUMONIA_PATH_1 = \"../Lung Segmentation Data/Train/Non-COVID/images/\"\n",
    "#PNEUMONIA_PATH_2 = \"../Lung Segmentation Data/Test/Non-COVID/images/\"\n",
    "#PNEUMONIA_PATH_3 = \"../Lung Segmentation Data/Val/Non-COVID/images/\"\n",
    "#\n",
    "#COVID_19_PATH_1 = \"../Lung Segmentation Data/Train/COVID-19/images/\"\n",
    "#COVID_19_PATH_2 = \"../Lung Segmentation Data/Test/COVID-19/images/\"\n",
    "#COVID_19_PATH_3 = \"../Lung Segmentation Data/Val/COVID-19/images/\"\n",
    "#\n",
    "#NORMAL_PATH_1 = \"../Lung Segmentation Data/Train/Normal/images/\"\n",
    "#NORMAL_PATH_2 = \"../Lung Segmentation Data/Test/Normal/images/\"\n",
    "#NORMAL_PATH_3 = \"../Lung Segmentation Data/Val/Normal/images/\"\n",
    "\n",
    "MODEL_PATH = \"../models/\"\n",
    "MODEL_NAME = \"resnet50_8020_64_4035_50_dataug_v1\"\n",
    "\n",
    "ROC_PATH = \"../reports/roc/\"\n",
    "ACCURACY_PATH = \"../reports/accuracy/\"\n",
    "LOSS_PATH = \"../reports/loss/\"\n",
    "ACCURACY_LOSS_PATH = \"../reports/accuracy_loss/\"\n",
    "CONFUSION_MATRIX_PATH = \"../reports/confusion_matrix/\"\n",
    "\n",
    "LABELS = [ \n",
    "        \"Viral Pneumonia\", \n",
    "        \"COVID-19\", \n",
    "        \"NORMAL\",\n",
    "] \n",
    "\n",
    "CLASSES = [\n",
    "    \"COVID-19\", \n",
    "    \"NORMAL\", \n",
    "    \"Viral Pneumonia\"\n",
    "] \n",
    "#LABELS = [\"Viral Pneumonia\", \"COVID-19\", \"Lung Opacity\", \"NORMAL\"] \n",
    "#CLASSES = [\"Viral Pneumonia\", \"COVID-19\", \"Lung Opacity\", \"NORMAL\"] \n",
    "\n",
    "SAMPLES = 1345\n",
    "\n",
    "TEST_SIZE = 0.20\n",
    "VALIDATION_SIZE = 0.15\n",
    "\n",
    "IMG_RESOLUTION = (64, 64)\n",
    "WIDTH = 64\n",
    "HEIGHT = 64\n",
    "\n",
    "BS = 38\n",
    "EPOCHS = 49\n",
    "\n",
    "SEED = 42\n",
    "SEED_MODEL = 42\n",
    "SEED_SPLIT = 42\n",
    "SEED_VALIDATION = 82\n",
    "\n",
    "#INIT_LR = 5e-4\n",
    "INIT_LR = 3e-4\n",
    "DECAY = 1e-6"
   ]
  },
  {
   "cell_type": "markdown",
   "metadata": {},
   "source": [
    "---\n",
    "## Transformers\n",
    "\n",
    "We will be able to call back these Transformers classes along the project."
   ]
  },
  {
   "cell_type": "code",
   "execution_count": 3,
   "metadata": {},
   "outputs": [],
   "source": [
    "class Files:\n",
    "\n",
    "    def __init__(self, samples : int, random_seed : int):\n",
    "        self.samples = samples\n",
    "        self.random_seed = random_seed\n",
    "        self.pneumonia_path = str\n",
    "        self.covid19_path = str\n",
    "        self.normal_path = str\n",
    "        self.array = []\n",
    "    \n",
    "    def file_paths(self, pneumonia_path : str, covid19_path : str, normal_path : str):\n",
    "        pneumonia_paths = glob.glob(pneumonia_path + \"/*\")\n",
    "        covid19_paths = glob.glob(covid19_path + \"/*\")\n",
    "        normal_paths = glob.glob(normal_path + \"/*\")\n",
    "\n",
    "        random.seed(self.random_seed)\n",
    "        random.shuffle(pneumonia_paths)\n",
    "        random.shuffle(covid19_paths)\n",
    "        random.shuffle(normal_paths)\n",
    "\n",
    "        images_paths = pneumonia_paths[:self.samples] + covid19_paths[:self.samples] + normal_paths[:self.samples] \n",
    "        return images_paths\n",
    "\n",
    "    def file_labels(self, images_paths : list):\n",
    "        for i in range(len(images_paths)):\n",
    "            if i < len(images_paths) / 3:\n",
    "                self.array.append(\"pneumonia\")\n",
    "            elif i >= len(images_paths) / 3 and i < (len(images_paths) * (2/3)):\n",
    "                self.array.append(\"covid\")\n",
    "            elif i >= (len(images_paths) * (2/3)):\n",
    "                self.array.append(\"normal\")\n",
    "        return self.array\n",
    "        \n",
    "\n",
    "class DataPreprocessing(BaseEstimator, TransformerMixin):\n",
    "\n",
    "    def __init__(self, img_resolution : list):\n",
    "        self.img_resolution = img_resolution\n",
    "        self.array = []\n",
    "\n",
    "    def fit(self, filepath : list, y=0): \n",
    "        for i in range(len(filepath)):\n",
    "            image = cv2.imread(filepath[i])\n",
    "            image = cv2.cvtColor(image, cv2.COLOR_BGR2RGB)\n",
    "            image = cv2.resize(image, self.img_resolution)\n",
    "            R, G, B = cv2.split(image)                          \n",
    "            output1_R = cv2.equalizeHist(R)                     \n",
    "            output1_G = cv2.equalizeHist(G)                     \n",
    "            output1_B = cv2.equalizeHist(B)                     \n",
    "            preprocessed_img = cv2.merge((output1_R, output1_G, output1_B))  \n",
    "            self.array.append(preprocessed_img)                           \n",
    "        return self.array\n",
    "    \n",
    "    def transform(self, filepath : list, y=0):\n",
    "        return self.array\n",
    "\n",
    "class DataLabeling(BaseEstimator, TransformerMixin):\n",
    "\n",
    "    def __init__(self):\n",
    "        self.encoder = []\n",
    "    \n",
    "    def fit(self, labels : list, y = 0):      \n",
    "        label_encoder = LabelEncoder()\n",
    "        self.encoder = label_encoder.fit_transform(labels)\n",
    "        self.encoder = to_categorical(self.encoder)\n",
    "        return self.encoder\n",
    "\n",
    "    def transform(self, labels : list, y = 0):\n",
    "        return self.encoder\n",
    "\n",
    "class HeadModel(BaseEstimator, TransformerMixin):\n",
    "\n",
    "    def __init__(self):\n",
    "        self.headmodel_output= self\n",
    "\n",
    "    def fit(self, basemodel, y = 0):\n",
    "        headmodel_input = basemodel.output\n",
    "        flat = layers.Flatten(name = 'flatten')(headmodel_input)\n",
    "        dense1 = layers.Dense(64,\n",
    "              kernel_regularizer=l2(0.025),      \n",
    "              bias_regularizer=l2(0.025))(flat)\n",
    "        activation1 = layers.Activation('relu')(dense1)\n",
    "        dense2 = layers.Dense(64, activation = 'relu')(activation1)\n",
    "        dropout2 = layers.Dropout(0.5)(dense2)\n",
    "        self.headmodel_output = layers.Dense(3, activation = 'softmax')(dropout2)\n",
    "        return self.headmodel_output\n",
    "    \n",
    "    def transform(self, basemodel, y = 0):\n",
    "        return self.headmodel_output\n",
    "\n",
    "class ModelChart:\n",
    "\n",
    "    def __init__(self, history, model_name : str, epochs : int):\n",
    "        self.history = history\n",
    "        self.model_name = model_name\n",
    "        self.epochs = epochs\n",
    "\n",
    "    def loss_accuracy_chart(self, path : str):\n",
    "        N = self.epochs\n",
    "\n",
    "        plt.style.use(\"ggplot\")\n",
    "        plt.figure(figsize = (10, 8))\n",
    "        plt.plot(self.history.history[\"loss\"], label=\"train_loss\")\n",
    "        plt.plot(self.history.history[\"val_loss\"], label=\"val_loss\")\n",
    "        plt.plot(self.history.history[\"accuracy\"], label=\"train_acc\")\n",
    "        plt.plot(self.history.history[\"val_accuracy\"], label=\"val_acc\")\n",
    "        plt.title(\"Model Training Loss and Accuracy: \" + self.model_name)\n",
    "        plt.xlabel(\"Epochs #\")\n",
    "        plt.ylabel(\"Loss/Accuracy\")\n",
    "        plt.legend(loc=\"lower left\")\n",
    "        plt.savefig(path + 'loss_accuracy_' + self.model_name + '.png')\n",
    "        plt.show()\n",
    "\n",
    "    def accuracy_chart(self, path : str):\n",
    "        plt.style.use('ggplot')\n",
    "        plt.figure(figsize = (10, 8))\n",
    "        plt.plot(self.history.history['accuracy'])\n",
    "        plt.plot(self.history.history['val_accuracy'])\n",
    "        plt.title('Model Accuracy: ' + self.model_name)\n",
    "        plt.ylabel('Accuracy')\n",
    "        plt.xlabel('Epochs #')\n",
    "        plt.legend(['train', 'validation'], loc='lower right')\n",
    "        plt.savefig(path + 'accuracy_' + self.model_name + '.png')\n",
    "        plt.show()\n",
    "\n",
    "    def loss_chart(self, path : str):\n",
    "        plt.style.use('ggplot')\n",
    "        plt.figure(figsize = (10, 8))\n",
    "        plt.plot(self.history.history['loss'])\n",
    "        plt.plot(self.history.history['val_loss'])\n",
    "        plt.title('Model Loss:' + self.model_name)\n",
    "        plt.ylabel('Loss')\n",
    "        plt.xlabel('Epochs #')\n",
    "        plt.legend(['train', 'validation'], loc='upper left')\n",
    "        plt.savefig(path + 'loss_' + self.model_name + '.png')\n",
    "        plt.show()\n",
    "\n",
    "class ModelEvaluation:\n",
    "\n",
    "    def __init__(self, conf_matrix : np.asarray, model_name : str):\n",
    "        self.conf_matrix = conf_matrix\n",
    "        self.model_name = model_name\n",
    "\n",
    "    def confusion_matrix(self, path : str, labels : list):\n",
    "        df_cm= pd.DataFrame(self.conf_matrix, columns = labels, \n",
    "            index = labels)\n",
    "        df_cm.index.name = 'Original'\n",
    "        df_cm.columns.name = 'Predicted'\n",
    "        plt.figure(figsize = (8,8))\n",
    "        plt.title('Confusion Matrix - ' + self.model_name)\n",
    "        sns.heatmap(df_cm/np.sum(df_cm), fmt='.2%', annot = True, annot_kws={'size':16})\n",
    "        plt.savefig(path + 'confusion_matrix_' + self.model_name + '.png')\n",
    "        plt.show()\n",
    "    \n",
    "    def parameters(self):\n",
    "        TP_pneumonia = conf_matrix[0,0]\n",
    "        FN_pneumonia = conf_matrix[0,1] + conf_matrix[0,2] \n",
    "        FP_pneumonia = conf_matrix[1,0] + conf_matrix[2,0] \n",
    "        TN_pneumonia = conf_matrix[1,1] + conf_matrix[1,2] + conf_matrix[2,1] + conf_matrix[2,2] \n",
    "\n",
    "        sensit_pneumonia = TP_pneumonia / (TP_pneumonia + FN_pneumonia)\n",
    "        spec_pneumonia = TN_pneumonia / (FP_pneumonia + TN_pneumonia)\n",
    "        prec_pneumonia = TP_pneumonia / (TP_pneumonia + FP_pneumonia)\n",
    "        fscore_pneumonia = 2 * (sensit_pneumonia * prec_pneumonia) / (sensit_pneumonia + prec_pneumonia)\n",
    "\n",
    "        TP_covid = conf_matrix[1,1] \n",
    "        FN_covid = conf_matrix[1,0] + conf_matrix[1,2] \n",
    "        FP_covid = conf_matrix[0,1] + conf_matrix[2,1] \n",
    "        TN_covid = conf_matrix[0,0] + conf_matrix[0,2] + conf_matrix[2,0] + conf_matrix[2,2] \n",
    "\n",
    "        sensit_covid = TP_covid / (TP_covid + FN_covid)\n",
    "        spec_covid = TN_covid / (FP_covid + TN_covid)\n",
    "        prec_covid = TP_covid / (TP_covid + FP_covid)\n",
    "        fscore_covid = 2 * (sensit_covid * prec_covid) / (sensit_covid + prec_covid)\n",
    "\n",
    "        TP_normal = conf_matrix[2,2]\n",
    "        FN_normal = conf_matrix[2,0] + conf_matrix[2,1]\n",
    "        FP_normal = conf_matrix[0,2] + conf_matrix[1,2]\n",
    "        TN_normal = conf_matrix[0,0] + conf_matrix[0,1] + conf_matrix[1,0] + conf_matrix[1,1] \n",
    "\n",
    "        sensit_normal = TP_normal / (TP_normal + FN_normal)\n",
    "        spec_normal = TN_normal / (FP_normal + TN_normal)\n",
    "        prec_normal = TP_normal / (TP_normal + FP_normal)\n",
    "        fscore_normal = 2 * (sensit_normal * prec_normal) / (sensit_normal + prec_normal)\n",
    "\n",
    "        accuracy = (self.conf_matrix[0,0] + self.conf_matrix[1,1] + self.conf_matrix[2,2]) / sum(sum(self.conf_matrix))\n",
    "        print(\"Test Model Accuracy: {:.4f}\".format(accuracy))\n",
    "        print(f\". . .\")\n",
    "        print(\"Viral Pneumonia Sensitivity: {:.4f}\".format(sensit_pneumonia))\n",
    "        print(\"Viral Pneumonia Specificity: {:.4f}\".format(spec_pneumonia))\n",
    "        print(\"Viral Pneumonia Precision: {:.4f}\".format(prec_pneumonia))\n",
    "        print(\"Viral Pneumonia F1-Score: {:.4f}\".format(fscore_pneumonia))\n",
    "        print(f\". . .\")\n",
    "        print(\"COVID-19 Sensitivity: {:.4f}\".format(sensit_covid))\n",
    "        print(\"COVID-19 Specificity: {:.4f}\".format(spec_covid))\n",
    "        print(\"COVID-19 Precision: {:.4f}\".format(prec_covid))\n",
    "        print(\"COVID-19 F1-Score: {:.4f}\".format(fscore_covid))\n",
    "        print(f\". . .\")\n",
    "        print(\"NORMAL Sensitivity: {:.4f}\".format(sensit_normal))\n",
    "        print(\"NORMAL Specificity: {:.4f}\".format(spec_normal))\n",
    "        print(\"NORMAL Precision: {:.4f}\".format(prec_normal))\n",
    "        print(\"NORMAL F1-Score: {:.4f}\".format(fscore_normal))\n",
    "\n",
    "class ROC:\n",
    "    def __init__(self):\n",
    "        pass\n",
    "    \n",
    "    def ROC_Curve(self, y_test, prob_pred):\n",
    "        encoder = LabelEncoder()\n",
    "        binarizer = LabelBinarizer()\n",
    "\n",
    "        y_encoded_test = encoder.fit_transform(y_test.argmax(axis=1))\n",
    "        y_test_bin = binarizer.fit_transform(y=y_encoded_test)\n",
    "\n",
    "        y_score = prob_pred\n",
    "\n",
    "        fpr = dict()\n",
    "        tpr = dict()\n",
    "        roc_auc = dict()\n",
    "        for i in range(len(LABELS)):\n",
    "            fpr[i], tpr[i], _ = roc_curve(\n",
    "                y_test_bin[:, i], \n",
    "                y_score[:, i]\n",
    "            )\n",
    "            roc_auc[i] = auc(\n",
    "                fpr[i], \n",
    "                tpr[i]\n",
    "            )\n",
    "\n",
    "        # Compute micro-average ROC curve and ROC area\n",
    "        fpr[\"micro\"], tpr[\"micro\"], _ = roc_curve(\n",
    "            y_test_bin.ravel(),\n",
    "            y_score.ravel()\n",
    "        )\n",
    "        roc_auc[\"micro\"] = auc(\n",
    "            fpr[\"micro\"], \n",
    "            tpr[\"micro\"]\n",
    "        )\n",
    "\n",
    "        # First aggregate all false positive rates\n",
    "        all_fpr = np.unique(\n",
    "            np.concatenate(\n",
    "                [fpr[i] for i in range(len(LABELS))]\n",
    "            )\n",
    "        )\n",
    "\n",
    "        # Then interpolate all ROC curves at this points\n",
    "        mean_tpr = np.zeros_like(all_fpr)\n",
    "        for i in range(len(LABELS)):\n",
    "            mean_tpr += np.interp(\n",
    "                all_fpr, \n",
    "                fpr[i], \n",
    "                tpr[i]\n",
    "            )\n",
    "\n",
    "        # Finally average it and compute AUC\n",
    "        mean_tpr /= len(LABELS) \n",
    "\n",
    "        fpr[\"macro\"] = all_fpr\n",
    "        tpr[\"macro\"] = mean_tpr\n",
    "        roc_auc[\"macro\"] = auc(fpr[\"macro\"], tpr[\"macro\"])\n",
    "\n",
    "        plt.style.use('ggplot')\n",
    "        plt.figure(figsize=(10,8))\n",
    "\n",
    "        for i in range(len(LABELS)):\n",
    "            plt.plot(\n",
    "                fpr[i],\n",
    "                tpr[i],\n",
    "                label=\"ROC curve of class \" + LABELS[i] + \" (area = {1:0.2f})\".format(\n",
    "                    encoder.inverse_transform([i])[0], \n",
    "                    roc_auc[i]\n",
    "                )\n",
    "            )\n",
    "\n",
    "        plt.plot(\n",
    "            fpr[\"micro\"],\n",
    "            tpr[\"micro\"],\n",
    "            label=\"micro-average ROC curve (area = {0:0.2f})\".format(\n",
    "                roc_auc[\"micro\"]),\n",
    "                linestyle=\"--\",\n",
    "        )\n",
    "\n",
    "        plt.plot(\n",
    "            fpr[\"macro\"],\n",
    "            tpr[\"macro\"],\n",
    "            label=\"macro-average ROC curve (area = {0:0.2f})\".format(\n",
    "                roc_auc[\"macro\"]),\n",
    "                linestyle=\"--\",\n",
    "        )\n",
    "\n",
    "        plt.plot([0, 1], [0, 1], \"k--\")\n",
    "        plt.xlabel(\"False Positive Rate\")\n",
    "        plt.ylabel(\"True Positive Rate\")\n",
    "        plt.title(\"Model ROC Curve: \" + MODEL_NAME)\n",
    "        plt.legend(loc=\"lower right\")\n",
    "        plt.grid()\n",
    "        plt.savefig(ROC_PATH + 'roc_curve_' + MODEL_NAME + '.png')\n",
    "        plt.show()"
   ]
  },
  {
   "cell_type": "markdown",
   "metadata": {},
   "source": [
    "---\n",
    "## Data\n",
    "\n",
    "We are going to store 800 samples of the image paths and masks per folder, with a total of 2400 images."
   ]
  },
  {
   "cell_type": "markdown",
   "metadata": {},
   "source": [
    "Step used for second repository"
   ]
  },
  {
   "cell_type": "code",
   "execution_count": 29,
   "metadata": {},
   "outputs": [],
   "source": [
    "pneumonia_paths_1 = glob.glob(PNEUMONIA_PATH_1 + \"*.png\")\n",
    "pneumonia_paths_2 = glob.glob(PNEUMONIA_PATH_2 + \"*.png\")\n",
    "pneumonia_paths_3 = glob.glob(PNEUMONIA_PATH_3 + \"*.png\")\n",
    "\n",
    "PNEUMONIA_PATH = pneumonia_paths_1 + pneumonia_paths_2 + pneumonia_paths_3\n",
    "\n",
    "covid_19_paths_1 = glob.glob(COVID_19_PATH_1 + \"*.png\")\n",
    "covid_19_paths_2 = glob.glob(COVID_19_PATH_2 + \"*.png\")\n",
    "covid_19_paths_3 = glob.glob(COVID_19_PATH_3 + \"*.png\")\n",
    "\n",
    "COVID_19_PATH = covid_19_paths_1 + covid_19_paths_2 + covid_19_paths_3\n",
    "\n",
    "normal_paths_1 = glob.glob(NORMAL_PATH_1 + \"*.png\")\n",
    "normal_paths_2 = glob.glob(NORMAL_PATH_2 + \"*.png\")\n",
    "normal_paths_3 = glob.glob(NORMAL_PATH_3 + \"*.png\")\n",
    "\n",
    "NORMAL_PATH = normal_paths_1 + normal_paths_2 + normal_paths_3"
   ]
  },
  {
   "cell_type": "markdown",
   "metadata": {},
   "source": [
    "Step for both repositories"
   ]
  },
  {
   "cell_type": "code",
   "execution_count": 3,
   "metadata": {},
   "outputs": [
    {
     "ename": "NameError",
     "evalue": "name 'SAMPLES' is not defined",
     "output_type": "error",
     "traceback": [
      "\u001b[1;31m---------------------------------------------------------------------------\u001b[0m",
      "\u001b[1;31mNameError\u001b[0m                                 Traceback (most recent call last)",
      "\u001b[1;32mc:\\Users\\erick\\proyectos\\git\\thorx_pipeline\\notebooks\\thorx_notebook.ipynb Celda 16\u001b[0m in \u001b[0;36m<cell line: 1>\u001b[1;34m()\u001b[0m\n\u001b[1;32m----> <a href='vscode-notebook-cell:/c%3A/Users/erick/proyectos/git/thorx_pipeline/notebooks/thorx_notebook.ipynb#X21sZmlsZQ%3D%3D?line=0'>1</a>\u001b[0m load_files \u001b[39m=\u001b[39m Files(SAMPLES, SEED)\n",
      "\u001b[1;31mNameError\u001b[0m: name 'SAMPLES' is not defined"
     ]
    }
   ],
   "source": [
    "load_files = Files(SAMPLES, SEED)"
   ]
  },
  {
   "cell_type": "code",
   "execution_count": 8,
   "metadata": {},
   "outputs": [],
   "source": [
    "image_paths = load_files.file_paths ( \n",
    "    PNEUMONIA_PATH,\n",
    "    COVID_19_PATH,\n",
    "    NORMAL_PATH,\n",
    "    )"
   ]
  },
  {
   "cell_type": "code",
   "execution_count": 9,
   "metadata": {},
   "outputs": [],
   "source": [
    "image_labels = load_files.file_labels(image_paths)"
   ]
  },
  {
   "cell_type": "markdown",
   "metadata": {},
   "source": [
    "We will create two dataframes file using `pd.Dataframe` for the `[paths]` and `[masks]` of the images."
   ]
  },
  {
   "cell_type": "code",
   "execution_count": 10,
   "metadata": {},
   "outputs": [],
   "source": [
    "df_images_path = pd.DataFrame (\n",
    "    image_paths, \n",
    "    columns = (['images_path']),\n",
    "    )\n",
    "\n",
    "df_original_targets = pd.DataFrame (\n",
    "    image_labels, \n",
    "    columns = (['images_label']),\n",
    "    )"
   ]
  },
  {
   "cell_type": "markdown",
   "metadata": {},
   "source": [
    "We call back the Dataframes created, and then we combine them with `pd.concat`. At the end, we create a `.csv` file with `.to_csv`. "
   ]
  },
  {
   "cell_type": "code",
   "execution_count": 11,
   "metadata": {},
   "outputs": [],
   "source": [
    "covid_db_df = pd.concat (\n",
    "    [df_images_path, df_original_targets],\n",
    "    axis = 1, \n",
    "    join = 'inner',\n",
    "    )"
   ]
  },
  {
   "cell_type": "code",
   "execution_count": 12,
   "metadata": {},
   "outputs": [],
   "source": [
    "covid_db_df.to_csv (\n",
    "    RAW_DATASET_PATH + \n",
    "    RAW_DATASET_NAME + \".csv\",\n",
    "    index = False,\n",
    "    )"
   ]
  },
  {
   "cell_type": "markdown",
   "metadata": {},
   "source": [
    "### From now on, we can only load the DF and not compile the previous code. "
   ]
  },
  {
   "cell_type": "code",
   "execution_count": 4,
   "metadata": {},
   "outputs": [],
   "source": [
    "df = pd.read_csv(\n",
    "        RAW_DATASET_PATH + RAW_DATASET_NAME + \".csv\",\n",
    ")"
   ]
  },
  {
   "cell_type": "code",
   "execution_count": 5,
   "metadata": {},
   "outputs": [],
   "source": [
    "data = DataPreprocessing(IMG_RESOLUTION)\n",
    "data = data.fit(df['images_path'])\n",
    "data = np.asarray(data) / 255.0"
   ]
  },
  {
   "cell_type": "code",
   "execution_count": 97,
   "metadata": {},
   "outputs": [
    {
     "data": {
      "text/plain": [
       "(4035, 64, 64, 3)"
      ]
     },
     "execution_count": 97,
     "metadata": {},
     "output_type": "execute_result"
    }
   ],
   "source": [
    "data.shape"
   ]
  },
  {
   "cell_type": "code",
   "execution_count": 6,
   "metadata": {},
   "outputs": [],
   "source": [
    "labels = DataLabeling()\n",
    "labels = labels.fit(df['images_label'])"
   ]
  },
  {
   "cell_type": "code",
   "execution_count": 99,
   "metadata": {},
   "outputs": [
    {
     "data": {
      "text/plain": [
       "(4035, 3)"
      ]
     },
     "execution_count": 99,
     "metadata": {},
     "output_type": "execute_result"
    }
   ],
   "source": [
    "labels.shape"
   ]
  },
  {
   "cell_type": "code",
   "execution_count": 16,
   "metadata": {},
   "outputs": [
    {
     "data": {
      "text/plain": [
       "array([[0., 0., 1.],\n",
       "       [0., 0., 1.],\n",
       "       [0., 0., 1.],\n",
       "       ...,\n",
       "       [0., 1., 0.],\n",
       "       [0., 1., 0.],\n",
       "       [0., 1., 0.]], dtype=float32)"
      ]
     },
     "execution_count": 16,
     "metadata": {},
     "output_type": "execute_result"
    }
   ],
   "source": [
    "labels"
   ]
  },
  {
   "cell_type": "markdown",
   "metadata": {},
   "source": [
    "#### Key observations:\n",
    "* The repository has 15,153 images splitted in 3 folders.\n",
    "* We will use 800 samples per folder with a total of 2400 samples, in order to not saturate the space in memory.\n",
    "* We will create a np.asarray with the pre processed images.\n",
    "* And then, we will create a np.asarray with all the images classificated with numbers, representing Viral Pneumonia images with a 0, COVID-19 images with 1 and NORMAL images with 2."
   ]
  },
  {
   "cell_type": "markdown",
   "metadata": {},
   "source": [
    "---\n",
    "## ShuffleSplit\n",
    "\n",
    "Split data training and validation using `train_test_split`."
   ]
  },
  {
   "cell_type": "markdown",
   "metadata": {},
   "source": [
    "Using Data Augmentation for generators for training and validation data, they are gonna be used later on the VGG16 Convolutional Neural Networks combined with the output of out Model."
   ]
  },
  {
   "cell_type": "code",
   "execution_count": 7,
   "metadata": {},
   "outputs": [],
   "source": [
    "X_train, X_test, y_train, y_test = train_test_split (\n",
    "    data,\n",
    "    labels,\n",
    "    test_size = TEST_SIZE,\n",
    "    random_state = SEED_SPLIT,\n",
    ")"
   ]
  },
  {
   "cell_type": "code",
   "execution_count": 8,
   "metadata": {},
   "outputs": [],
   "source": [
    "datagen = ImageDataGenerator (\n",
    "    rescale = None,\n",
    "    fill_mode = 'nearest',\n",
    "    rotation_range = 2, \n",
    "    validation_split = VALIDATION_SIZE,\n",
    "    shear_range = 0.02,\n",
    "    zoom_range = 0.02,\n",
    "    zca_whitening=False, \n",
    "    samplewise_center=True,\n",
    ")\n",
    "\n",
    "test_datagen = ImageDataGenerator ()"
   ]
  },
  {
   "cell_type": "code",
   "execution_count": 9,
   "metadata": {},
   "outputs": [],
   "source": [
    "train_generator = datagen.flow (\n",
    "    X_train,\n",
    "    y_train,\n",
    "    batch_size=BS,\n",
    "    shuffle=True,   \n",
    "    sample_weight=None,\n",
    "    save_to_dir=None,\n",
    "    subset=None,\n",
    ")\n",
    "\n",
    "valid_generator = datagen.flow (\n",
    "    X_train,\n",
    "    y_train,\n",
    "    batch_size=BS,\n",
    "    shuffle=True,   \n",
    "    sample_weight=None,\n",
    "    save_to_dir=None,\n",
    "    subset=None,\n",
    ")\n",
    "\n",
    "test_generator = test_datagen.flow (\n",
    "    X_test,\n",
    "    y_test,\n",
    "    batch_size=BS,\n",
    "    shuffle=False,   \n",
    "    sample_weight=None,\n",
    "    save_to_dir=None,\n",
    "    subset=None,\n",
    ")"
   ]
  },
  {
   "cell_type": "markdown",
   "metadata": {},
   "source": [
    "#### Key observations:\n",
    "* Must add a second `train_test_split` to create de validation data for the valid_generator."
   ]
  },
  {
   "cell_type": "markdown",
   "metadata": {},
   "source": [
    "---\n",
    "## Train\n",
    "\n",
    "Now we begin to specify our basemodel, headmodel and model of the Neural Network. We establish those parts as and specify them as:\n",
    "\n",
    "- `[basemodel]` which includes a pre trained Convolutional Neural Network as the Input of the principal architecture of our Neural Network. We must determine the weights, and fit the input shape images for the proccesing of our X_train and X_test data. We use Transfer Learning to adapt it in this project.\n",
    "\n",
    "- `[heamodel]`  which includes the last layers that will be placed on the Output of our Neural Network, they must be compatible with the basemodel.\n",
    "\n",
    "- `[model]` which combines the basemodel and heamodel to get a result of them compiled. "
   ]
  },
  {
   "cell_type": "code",
   "execution_count": 25,
   "metadata": {},
   "outputs": [
    {
     "name": "stdout",
     "output_type": "stream",
     "text": [
      "Training the model with gpu . . .\n",
      "Epoch 1/49\n",
      "84/84 [==============================] - 19s 149ms/step - loss: 3.7874 - accuracy: 0.6620 - val_loss: 11.9834 - val_accuracy: 0.3315\n",
      "\n",
      "Epoch 00001: val_loss improved from inf to 11.98341, saving model to ../models\\resnet50_8020_64_4035_50_dataug_v1.h5\n",
      "Epoch 2/49\n",
      "84/84 [==============================] - 9s 113ms/step - loss: 2.3022 - accuracy: 0.8918 - val_loss: 4.8092 - val_accuracy: 0.3305\n",
      "\n",
      "Epoch 00002: val_loss improved from 11.98341 to 4.80917, saving model to ../models\\resnet50_8020_64_4035_50_dataug_v1.h5\n",
      "Epoch 3/49\n",
      "84/84 [==============================] - 10s 114ms/step - loss: 1.3880 - accuracy: 0.9518 - val_loss: 5.7403 - val_accuracy: 0.3318\n",
      "\n",
      "Epoch 00003: val_loss did not improve from 4.80917\n",
      "Epoch 4/49\n",
      "84/84 [==============================] - 10s 114ms/step - loss: 0.8638 - accuracy: 0.9556 - val_loss: 6.5148 - val_accuracy: 0.3315\n",
      "\n",
      "Epoch 00004: val_loss did not improve from 4.80917\n",
      "Epoch 5/49\n",
      "84/84 [==============================] - 10s 114ms/step - loss: 0.5363 - accuracy: 0.9708 - val_loss: 3.6325 - val_accuracy: 0.3311\n",
      "\n",
      "Epoch 00005: val_loss improved from 4.80917 to 3.63249, saving model to ../models\\resnet50_8020_64_4035_50_dataug_v1.h5\n",
      "Epoch 6/49\n",
      "84/84 [==============================] - 10s 114ms/step - loss: 0.3180 - accuracy: 0.9868 - val_loss: 1.7179 - val_accuracy: 0.3321\n",
      "\n",
      "Epoch 00006: val_loss improved from 3.63249 to 1.71787, saving model to ../models\\resnet50_8020_64_4035_50_dataug_v1.h5\n",
      "Epoch 7/49\n",
      "84/84 [==============================] - 9s 113ms/step - loss: 0.2487 - accuracy: 0.9760 - val_loss: 4.7061 - val_accuracy: 0.3305\n",
      "\n",
      "Epoch 00007: val_loss did not improve from 1.71787\n",
      "Epoch 8/49\n",
      "84/84 [==============================] - 10s 114ms/step - loss: 0.1654 - accuracy: 0.9846 - val_loss: 2.1209 - val_accuracy: 0.3631\n",
      "\n",
      "Epoch 00008: val_loss did not improve from 1.71787\n",
      "Epoch 9/49\n",
      "84/84 [==============================] - 10s 114ms/step - loss: 0.1344 - accuracy: 0.9824 - val_loss: 0.8040 - val_accuracy: 0.6532\n",
      "\n",
      "Epoch 00009: val_loss improved from 1.71787 to 0.80398, saving model to ../models\\resnet50_8020_64_4035_50_dataug_v1.h5\n",
      "Epoch 10/49\n",
      "84/84 [==============================] - 10s 113ms/step - loss: 0.0958 - accuracy: 0.9884 - val_loss: 0.4563 - val_accuracy: 0.8603\n",
      "\n",
      "Epoch 00010: val_loss improved from 0.80398 to 0.45629, saving model to ../models\\resnet50_8020_64_4035_50_dataug_v1.h5\n",
      "Epoch 11/49\n",
      "84/84 [==============================] - 9s 113ms/step - loss: 0.0794 - accuracy: 0.9869 - val_loss: 0.4212 - val_accuracy: 0.8941\n",
      "\n",
      "Epoch 00011: val_loss improved from 0.45629 to 0.42125, saving model to ../models\\resnet50_8020_64_4035_50_dataug_v1.h5\n",
      "Epoch 12/49\n",
      "84/84 [==============================] - 10s 113ms/step - loss: 0.0601 - accuracy: 0.9898 - val_loss: 0.1826 - val_accuracy: 0.9477\n",
      "\n",
      "Epoch 00012: val_loss improved from 0.42125 to 0.18260, saving model to ../models\\resnet50_8020_64_4035_50_dataug_v1.h5\n",
      "Epoch 13/49\n",
      "84/84 [==============================] - 9s 112ms/step - loss: 0.0781 - accuracy: 0.9849 - val_loss: 0.0744 - val_accuracy: 0.9787\n",
      "\n",
      "Epoch 00013: val_loss improved from 0.18260 to 0.07442, saving model to ../models\\resnet50_8020_64_4035_50_dataug_v1.h5\n",
      "Epoch 14/49\n",
      "84/84 [==============================] - 9s 112ms/step - loss: 0.0514 - accuracy: 0.9908 - val_loss: 0.5479 - val_accuracy: 0.8916\n",
      "\n",
      "Epoch 00014: val_loss did not improve from 0.07442\n",
      "Epoch 15/49\n",
      "84/84 [==============================] - 9s 112ms/step - loss: 0.0409 - accuracy: 0.9948 - val_loss: 0.0718 - val_accuracy: 0.9815\n",
      "\n",
      "Epoch 00015: val_loss improved from 0.07442 to 0.07182, saving model to ../models\\resnet50_8020_64_4035_50_dataug_v1.h5\n",
      "Epoch 16/49\n",
      "84/84 [==============================] - 10s 114ms/step - loss: 0.0357 - accuracy: 0.9939 - val_loss: 0.1049 - val_accuracy: 0.9693\n",
      "\n",
      "Epoch 00016: val_loss did not improve from 0.07182\n",
      "Epoch 17/49\n",
      "84/84 [==============================] - 10s 113ms/step - loss: 0.0773 - accuracy: 0.9848 - val_loss: 0.0717 - val_accuracy: 0.9875\n",
      "\n",
      "Epoch 00017: val_loss improved from 0.07182 to 0.07172, saving model to ../models\\resnet50_8020_64_4035_50_dataug_v1.h5\n",
      "Epoch 18/49\n",
      "84/84 [==============================] - 10s 114ms/step - loss: 0.0777 - accuracy: 0.9873 - val_loss: 0.0588 - val_accuracy: 0.9875\n",
      "\n",
      "Epoch 00018: val_loss improved from 0.07172 to 0.05878, saving model to ../models\\resnet50_8020_64_4035_50_dataug_v1.h5\n",
      "Epoch 19/49\n",
      "84/84 [==============================] - 9s 113ms/step - loss: 0.0588 - accuracy: 0.9844 - val_loss: 0.0344 - val_accuracy: 0.9909\n",
      "\n",
      "Epoch 00019: val_loss improved from 0.05878 to 0.03438, saving model to ../models\\resnet50_8020_64_4035_50_dataug_v1.h5\n",
      "Epoch 20/49\n",
      "84/84 [==============================] - 9s 113ms/step - loss: 0.0369 - accuracy: 0.9920 - val_loss: 0.0753 - val_accuracy: 0.9884\n",
      "\n",
      "Epoch 00020: val_loss did not improve from 0.03438\n",
      "Epoch 21/49\n",
      "84/84 [==============================] - 10s 113ms/step - loss: 0.0608 - accuracy: 0.9907 - val_loss: 0.0530 - val_accuracy: 0.9881\n",
      "\n",
      "Epoch 00021: val_loss did not improve from 0.03438\n",
      "Epoch 22/49\n",
      "84/84 [==============================] - 9s 112ms/step - loss: 0.0609 - accuracy: 0.9852 - val_loss: 0.0551 - val_accuracy: 0.9856\n",
      "\n",
      "Epoch 00022: val_loss did not improve from 0.03438\n",
      "Epoch 23/49\n",
      "84/84 [==============================] - 10s 114ms/step - loss: 0.0378 - accuracy: 0.9942 - val_loss: 0.0362 - val_accuracy: 0.9934\n",
      "\n",
      "Epoch 00023: val_loss did not improve from 0.03438\n",
      "Epoch 24/49\n",
      "84/84 [==============================] - 9s 113ms/step - loss: 0.0716 - accuracy: 0.9873 - val_loss: 0.2797 - val_accuracy: 0.9317\n",
      "\n",
      "Epoch 00024: val_loss did not improve from 0.03438\n",
      "Epoch 25/49\n",
      "84/84 [==============================] - 9s 113ms/step - loss: 0.0839 - accuracy: 0.9820 - val_loss: 0.0213 - val_accuracy: 0.9969\n",
      "\n",
      "Epoch 00025: val_loss improved from 0.03438 to 0.02131, saving model to ../models\\resnet50_8020_64_4035_50_dataug_v1.h5\n",
      "Epoch 26/49\n",
      "84/84 [==============================] - 9s 113ms/step - loss: 0.0212 - accuracy: 0.9972 - val_loss: 0.0146 - val_accuracy: 0.9981\n",
      "\n",
      "Epoch 00026: val_loss improved from 0.02131 to 0.01456, saving model to ../models\\resnet50_8020_64_4035_50_dataug_v1.h5\n",
      "Epoch 27/49\n",
      "84/84 [==============================] - 9s 113ms/step - loss: 0.0099 - accuracy: 0.9998 - val_loss: 0.0281 - val_accuracy: 0.9937\n",
      "\n",
      "Epoch 00027: val_loss did not improve from 0.01456\n",
      "Epoch 28/49\n",
      "84/84 [==============================] - 9s 113ms/step - loss: 0.0369 - accuracy: 0.9919 - val_loss: 0.0399 - val_accuracy: 0.9906\n",
      "\n",
      "Epoch 00028: val_loss did not improve from 0.01456\n",
      "Epoch 29/49\n",
      "84/84 [==============================] - 10s 113ms/step - loss: 0.0491 - accuracy: 0.9875 - val_loss: 0.0169 - val_accuracy: 0.9981\n",
      "\n",
      "Epoch 00029: val_loss did not improve from 0.01456\n",
      "Epoch 30/49\n",
      "84/84 [==============================] - 9s 113ms/step - loss: 0.0274 - accuracy: 0.9944 - val_loss: 0.0161 - val_accuracy: 0.9987\n",
      "\n",
      "Epoch 00030: val_loss did not improve from 0.01456\n",
      "Epoch 31/49\n",
      "84/84 [==============================] - 10s 114ms/step - loss: 0.0155 - accuracy: 0.9989 - val_loss: 0.0122 - val_accuracy: 0.9975\n",
      "\n",
      "Epoch 00031: val_loss improved from 0.01456 to 0.01219, saving model to ../models\\resnet50_8020_64_4035_50_dataug_v1.h5\n",
      "Epoch 32/49\n",
      "84/84 [==============================] - 11s 133ms/step - loss: 0.0145 - accuracy: 0.9983 - val_loss: 0.0086 - val_accuracy: 0.9994\n",
      "\n",
      "Epoch 00032: val_loss improved from 0.01219 to 0.00856, saving model to ../models\\resnet50_8020_64_4035_50_dataug_v1.h5\n",
      "Epoch 33/49\n",
      "84/84 [==============================] - 12s 138ms/step - loss: 0.0132 - accuracy: 0.9982 - val_loss: 0.0186 - val_accuracy: 0.9959\n",
      "\n",
      "Epoch 00033: val_loss did not improve from 0.00856\n",
      "Epoch 34/49\n",
      "84/84 [==============================] - 10s 121ms/step - loss: 0.0310 - accuracy: 0.9943 - val_loss: 0.0255 - val_accuracy: 0.9934\n",
      "\n",
      "Epoch 00034: val_loss did not improve from 0.00856\n",
      "Epoch 35/49\n",
      "84/84 [==============================] - 10s 119ms/step - loss: 0.0347 - accuracy: 0.9945 - val_loss: 0.0125 - val_accuracy: 0.9978\n",
      "\n",
      "Epoch 00035: val_loss did not improve from 0.00856\n",
      "Epoch 36/49\n",
      "84/84 [==============================] - 10s 121ms/step - loss: 0.0256 - accuracy: 0.9971 - val_loss: 0.0564 - val_accuracy: 0.9875\n",
      "\n",
      "Epoch 00036: val_loss did not improve from 0.00856\n",
      "Epoch 37/49\n",
      "84/84 [==============================] - 10s 124ms/step - loss: 0.0458 - accuracy: 0.9891 - val_loss: 0.0292 - val_accuracy: 0.9956\n",
      "\n",
      "Epoch 00037: val_loss did not improve from 0.00856\n",
      "Epoch 38/49\n",
      "84/84 [==============================] - 10s 122ms/step - loss: 0.0249 - accuracy: 0.9947 - val_loss: 0.0265 - val_accuracy: 0.9950\n",
      "\n",
      "Epoch 00038: val_loss did not improve from 0.00856\n",
      "Epoch 39/49\n",
      "84/84 [==============================] - 10s 120ms/step - loss: 0.0342 - accuracy: 0.9917 - val_loss: 0.1637 - val_accuracy: 0.9533\n",
      "\n",
      "Epoch 00039: val_loss did not improve from 0.00856\n",
      "Epoch 40/49\n",
      "84/84 [==============================] - 10s 120ms/step - loss: 0.0573 - accuracy: 0.9891 - val_loss: 0.0344 - val_accuracy: 0.9922\n",
      "\n",
      "Epoch 00040: val_loss did not improve from 0.00856\n",
      "Epoch 41/49\n",
      "84/84 [==============================] - 10s 121ms/step - loss: 0.0330 - accuracy: 0.9930 - val_loss: 0.0649 - val_accuracy: 0.9818\n",
      "\n",
      "Epoch 00041: val_loss did not improve from 0.00856\n",
      "Epoch 42/49\n",
      "84/84 [==============================] - 10s 122ms/step - loss: 0.0253 - accuracy: 0.9951 - val_loss: 0.0587 - val_accuracy: 0.9853\n",
      "\n",
      "Epoch 00042: val_loss did not improve from 0.00856\n",
      "Epoch 43/49\n",
      "84/84 [==============================] - 10s 121ms/step - loss: 0.0416 - accuracy: 0.9925 - val_loss: 0.0335 - val_accuracy: 0.9915\n",
      "\n",
      "Epoch 00043: val_loss did not improve from 0.00856\n",
      "Epoch 44/49\n",
      "84/84 [==============================] - 10s 120ms/step - loss: 0.0207 - accuracy: 0.9972 - val_loss: 0.0648 - val_accuracy: 0.9812\n",
      "\n",
      "Epoch 00044: val_loss did not improve from 0.00856\n",
      "Epoch 45/49\n",
      "84/84 [==============================] - 10s 117ms/step - loss: 0.0263 - accuracy: 0.9942 - val_loss: 0.0140 - val_accuracy: 0.9978\n",
      "\n",
      "Epoch 00045: val_loss did not improve from 0.00856\n",
      "Epoch 46/49\n",
      "84/84 [==============================] - 10s 118ms/step - loss: 0.0186 - accuracy: 0.9987 - val_loss: 0.0053 - val_accuracy: 1.0000\n",
      "\n",
      "Epoch 00046: val_loss improved from 0.00856 to 0.00527, saving model to ../models\\resnet50_8020_64_4035_50_dataug_v1.h5\n",
      "Epoch 47/49\n",
      "84/84 [==============================] - 10s 117ms/step - loss: 0.0086 - accuracy: 0.9994 - val_loss: 0.0157 - val_accuracy: 0.9962\n",
      "\n",
      "Epoch 00047: val_loss did not improve from 0.00527\n",
      "Epoch 48/49\n",
      "84/84 [==============================] - 10s 117ms/step - loss: 0.0108 - accuracy: 0.9984 - val_loss: 0.0153 - val_accuracy: 0.9956\n",
      "\n",
      "Epoch 00048: val_loss did not improve from 0.00527\n",
      "Epoch 49/49\n",
      "84/84 [==============================] - 10s 115ms/step - loss: 0.0069 - accuracy: 1.0000 - val_loss: 0.0061 - val_accuracy: 0.9994\n",
      "\n",
      "Epoch 00049: val_loss did not improve from 0.00527\n"
     ]
    }
   ],
   "source": [
    "basemodel = \"MODELO\" (\n",
    "    weights = 'imagenet', \n",
    "    include_top = False, \n",
    "    input_tensor = layers.Input( \n",
    "        shape = (WIDTH,\n",
    "                 HEIGHT,\n",
    "                 3\n",
    "        )\n",
    "    )\n",
    ")\n",
    "\n",
    "for layer in basemodel.layers:\n",
    "    layers.trainable = False\n",
    "\n",
    "headmodel = HeadModel()\n",
    "headmodel = headmodel.fit(basemodel)\n",
    "model = Model(inputs = basemodel.input, outputs = headmodel)\n",
    "\n",
    "earlystopping = EarlyStopping (\n",
    "    monitor = 'val_loss', \n",
    "    mode = 'min', \n",
    "    verbose = 1, \n",
    "    patience = 20, \n",
    "    restore_best_weights = True\n",
    ")\n",
    "\n",
    "checkpointer = ModelCheckpoint ( \n",
    "    filepath = MODEL_PATH + MODEL_NAME + \".h5\",\n",
    "    verbose = 1,\n",
    "    save_best_only = True\n",
    ")\n",
    "\n",
    "opt = Adam (\n",
    "    lr = INIT_LR, \n",
    "    decay = DECAY,\n",
    ")\n",
    "model.compile(\n",
    "    optimizer=opt, \n",
    "    loss='categorical_crossentropy', \n",
    "    metrics=['accuracy'],\n",
    ")\n",
    "with tf.device('/gpu:0'):\n",
    "    print(\"Training the model with gpu . . .\")\n",
    "    history = model.fit (\n",
    "        train_generator, \n",
    "        steps_per_epoch=train_generator.n // BS, \n",
    "        validation_data=valid_generator,\n",
    "        validation_steps=valid_generator.n // BS,\n",
    "        epochs=EPOCHS, \n",
    "        callbacks=[checkpointer, earlystopping], \n",
    "        )\n",
    "\n",
    "model.save(MODEL_PATH + MODEL_NAME + \".h5\")"
   ]
  },
  {
   "cell_type": "markdown",
   "metadata": {},
   "source": [
    "Now we'll visualize and save the model accuracy and loss during the training of the Neural Network."
   ]
  },
  {
   "cell_type": "code",
   "execution_count": 26,
   "metadata": {},
   "outputs": [
    {
     "data": {
      "image/png": "[encoded data removed]",
      "text/plain": [
       "<Figure size 720x576 with 1 Axes>"
      ]
     },
     "metadata": {},
     "output_type": "display_data"
    },
    {
     "data": {
      "image/png": "[encoded data removed]",
      "text/plain": [
       "<Figure size 720x576 with 1 Axes>"
      ]
     },
     "metadata": {},
     "output_type": "display_data"
    },
    {
     "data": {
      "image/png": "[encoded data removed]",
      "text/plain": [
       "<Figure size 720x576 with 1 Axes>"
      ]
     },
     "metadata": {},
     "output_type": "display_data"
    }
   ],
   "source": [
    "model_plot = ModelChart(history, MODEL_NAME, EPOCHS)\n",
    "\n",
    "model = model_plot.loss_accuracy_chart(ACCURACY_LOSS_PATH)\n",
    "accuracy = model_plot.accuracy_chart(ACCURACY_PATH)\n",
    "loss = model_plot.loss_chart(LOSS_PATH)"
   ]
  },
  {
   "cell_type": "markdown",
   "metadata": {},
   "source": [
    "---\n",
    "## Evaluation\n",
    "\n",
    "We finish the proccess loading the \".h5\" model, compiling it and making predictions with the validation data, generating a confussion matrix and classification report with the following characteristics:\n",
    "\n",
    "* `[precision]` which is the ratio tp / (tp + fp) where tp is the number of true positives and fp the number of false positives. The precision is intuitively the ability of the classifier not to label a negative sample as positive.\n",
    "* `[recall]` which is the ratio tp / (tp + fn) where tp is the number of true positives and fn the number of false negatives. The recall is intuitively the ability of the classifier to find all the positive samples.\n",
    "* `[f1-score]` which is a measure combining both precision and recall. It is generally described as the harmonic mean of the two. Harmonic mean is just another way to calculate an “average” of values, generally described as more suitable for ratios (such as precision and recall) than the traditional arithmetic mean.\n",
    "* `[support]` which is the support is the number of occurrences of each class.\n",
    "\n",
    "* `[confusion matrix]` which is used to illustrate classifier performance based on the true positive (tp), false positive (fp), true negative (tn) and false negative (fn) values.\n",
    "\n",
    "* `[sensitivity]` which is a measure of how many of the positive cases the classifier correctly predicted, over all the positive cases in the data.\n",
    "* `[specificity]` which is a measure of how many negative predictions made are correct (true negatives)."
   ]
  },
  {
   "cell_type": "code",
   "execution_count": 27,
   "metadata": {},
   "outputs": [
    {
     "name": "stdout",
     "output_type": "stream",
     "text": [
      "                 precision    recall  f1-score   support\n",
      "\n",
      "Viral Pneumonia       0.63      0.93      0.75       276\n",
      "       COVID-19       0.90      0.81      0.85       246\n",
      "         NORMAL       0.99      0.61      0.75       285\n",
      "\n",
      "       accuracy                           0.78       807\n",
      "      macro avg       0.84      0.78      0.79       807\n",
      "   weighted avg       0.84      0.78      0.78       807\n",
      "\n"
     ]
    }
   ],
   "source": [
    "loaded_model = load_model(MODEL_PATH + MODEL_NAME + \".h5\")\n",
    "opt = Adam(lr = INIT_LR, decay = DECAY)\n",
    "loaded_model.compile(optimizer=opt, loss='sparse_categorical_crossentropy', metrics=['accuracy'])\n",
    "\n",
    "prob_test_prediction = loaded_model.predict(test_generator)\n",
    "test_prediction = np.argmax(prob_test_prediction, axis=1)\n",
    "\n",
    "print(classification_report(y_test.argmax(axis=1), test_prediction, target_names=LABELS))\n",
    "conf_matrix = confusion_matrix(y_test.argmax(axis=1), test_prediction)"
   ]
  },
  {
   "cell_type": "markdown",
   "metadata": {},
   "source": [
    "Confusion Matrix"
   ]
  },
  {
   "cell_type": "code",
   "execution_count": 28,
   "metadata": {},
   "outputs": [
    {
     "data": {
      "image/png": "[encoded data removed]",
      "text/plain": [
       "<Figure size 576x576 with 2 Axes>"
      ]
     },
     "metadata": {},
     "output_type": "display_data"
    },
    {
     "name": "stdout",
     "output_type": "stream",
     "text": [
      "Test Model Accuracy: 0.7807\n",
      ". . .\n",
      "Viral Pneumonia Sensitivity: 0.9275\n",
      "Viral Pneumonia Specificity: 0.7137\n",
      "Viral Pneumonia Precision: 0.6275\n",
      "Viral Pneumonia F1-Score: 0.7485\n",
      ". . .\n",
      "COVID-19 Sensitivity: 0.8130\n",
      "COVID-19 Specificity: 0.9590\n",
      "COVID-19 Precision: 0.8969\n",
      "COVID-19 F1-Score: 0.8529\n",
      ". . .\n",
      "NORMAL Sensitivity: 0.6105\n",
      "NORMAL Specificity: 0.9962\n",
      "NORMAL Precision: 0.9886\n",
      "NORMAL F1-Score: 0.7549\n"
     ]
    }
   ],
   "source": [
    "model = ModelEvaluation(conf_matrix, MODEL_NAME)\n",
    "model.confusion_matrix(CONFUSION_MATRIX_PATH, LABELS)\n",
    "model.parameters()"
   ]
  },
  {
   "cell_type": "markdown",
   "metadata": {},
   "source": [
    "ROC AUG curve"
   ]
  },
  {
   "cell_type": "code",
   "execution_count": 30,
   "metadata": {},
   "outputs": [
    {
     "data": {
      "image/png": "[encoded data removed]",
      "text/plain": [
       "<Figure size 720x576 with 1 Axes>"
      ]
     },
     "metadata": {},
     "output_type": "display_data"
    }
   ],
   "source": [
    "roc_graph = ROC()\n",
    "roc_metrics = roc_graph.ROC_Curve(y_test, prob_test_prediction)"
   ]
  },
  {
   "cell_type": "code",
   "execution_count": 31,
   "metadata": {},
   "outputs": [],
   "source": [
    "test_original = np.argmax(y_test, axis=1)"
   ]
  },
  {
   "cell_type": "code",
   "execution_count": 32,
   "metadata": {},
   "outputs": [
    {
     "data": {
      "text/plain": [
       "0.7806691449814126"
      ]
     },
     "execution_count": 32,
     "metadata": {},
     "output_type": "execute_result"
    }
   ],
   "source": [
    "from sklearn.metrics import accuracy_score\n",
    "\n",
    "accuracy = accuracy_score(test_original, test_prediction)\n",
    "accuracy"
   ]
  },
  {
   "cell_type": "markdown",
   "metadata": {},
   "source": [
    "### We are going to store the predictions that were made of our Convolutional Neural Model with the original masks and image paths."
   ]
  },
  {
   "cell_type": "markdown",
   "metadata": {},
   "source": [
    "First, we do all the predictions of the images of out model. "
   ]
  },
  {
   "cell_type": "code",
   "execution_count": 33,
   "metadata": {},
   "outputs": [],
   "source": [
    "model_prediction = loaded_model.predict(data, batch_size=BS)\n",
    "model_prediction = np.argmax(model_prediction, axis=1)\n",
    "\n",
    "prediction = []\n",
    "for i in range(len(model_prediction)):\n",
    "    if model_prediction[i] == 0:\n",
    "        prediction.append(\"covid\")\n",
    "    if model_prediction[i] == 1:\n",
    "        prediction.append(\"normal\")\n",
    "    if model_prediction[i] == 2:\n",
    "        prediction.append(\"pneumonia\")\n",
    "    "
   ]
  },
  {
   "cell_type": "markdown",
   "metadata": {},
   "source": [
    "We call back de dataframe created at the beggining."
   ]
  },
  {
   "cell_type": "code",
   "execution_count": 34,
   "metadata": {},
   "outputs": [],
   "source": [
    "covid_db_df = pd.read_csv (\n",
    "    RAW_DATASET_PATH + \n",
    "    RAW_DATASET_NAME + \".csv\",  \n",
    "    )"
   ]
  },
  {
   "cell_type": "markdown",
   "metadata": {},
   "source": [
    "And at the end, we create de final Dataframe with the images_path, original_masks and predicted_masks of this project."
   ]
  },
  {
   "cell_type": "code",
   "execution_count": 35,
   "metadata": {},
   "outputs": [],
   "source": [
    "df_predicted_targets = pd.DataFrame (\n",
    "    prediction, \n",
    "    columns = (['images_predicted_label']), \n",
    "    )\n",
    "\n",
    "covid_db_df_predicted = pd.concat (\n",
    "    [df['images_path'], df['images_label'], df_predicted_targets],\n",
    "    axis = 1, \n",
    "    join = 'inner'\n",
    "    )"
   ]
  },
  {
   "cell_type": "code",
   "execution_count": 36,
   "metadata": {},
   "outputs": [],
   "source": [
    "covid_db_df_predicted.to_csv ( \n",
    "    PREDICTED_DATASET_PATH + \n",
    "    PREDICTED_DATASET_NAME + \".csv\",\n",
    "    index = False,\n",
    "    )"
   ]
  },
  {
   "cell_type": "markdown",
   "metadata": {},
   "source": [
    "Using the `model_prediction` content to visualize a random prediction."
   ]
  },
  {
   "cell_type": "code",
   "execution_count": 37,
   "metadata": {},
   "outputs": [
    {
     "data": {
      "text/plain": [
       "'COVID-19'"
      ]
     },
     "execution_count": 37,
     "metadata": {},
     "output_type": "execute_result"
    }
   ],
   "source": [
    "CLASSES[model_prediction[55]]"
   ]
  },
  {
   "cell_type": "code",
   "execution_count": 4,
   "metadata": {},
   "outputs": [
    {
     "name": "stdout",
     "output_type": "stream",
     "text": [
      "[[0, 0, 0], [0, 0, 1], [0, 1, 0], [0, 1, 2], [0, 2, 1], [0, 2, 2], [1, 0, 0], [1, 0, 2], [1, 1, 1], [1, 1, 2], [1, 2, 0], [1, 2, 1], [1, 2, 2], [2, 0, 1], [2, 0, 2], [2, 1, 0], [2, 1, 1], [2, 1, 2], [2, 2, 0], [2, 2, 1], [2, 2, 2]]\n"
     ]
    }
   ],
   "source": [
    "x=2\n",
    "y=2\n",
    "z=2\n",
    "n=2\n",
    "\n",
    "print([[i, j, k] for i in range(x+1) for j in range(y+1) for k in range(z+1) if i+j+k != n])"
   ]
  },
  {
   "cell_type": "code",
   "execution_count": 5,
   "metadata": {},
   "outputs": [
    {
     "name": "stdout",
     "output_type": "stream",
     "text": [
      "0\n",
      "1\n",
      "2\n"
     ]
    }
   ],
   "source": [
    "for i in range(x+1):\n",
    "    print(i)"
   ]
  }
 ],
 "metadata": {
  "kernelspec": {
   "display_name": "Python 3.8.8 ('tf_gpu')",
   "language": "python",
   "name": "python3"
  },
  "language_info": {
   "codemirror_mode": {
    "name": "ipython",
    "version": 3
   },
   "file_extension": ".py",
   "mimetype": "text/x-python",
   "name": "python",
   "nbconvert_exporter": "python",
   "pygments_lexer": "ipython3",
   "version": "3.8.8"
  },
  "orig_nbformat": 4,
  "vscode": {
   "interpreter": {
    "hash": "b7be78b07d205976e1a221d042fe85a3d49903e9d0dc59acc2fe23f608aa2ed0"
   }
  }
 },
 "nbformat": 4,
 "nbformat_minor": 2
}
